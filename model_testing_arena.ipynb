{
 "cells": [
  {
   "cell_type": "code",
   "execution_count": 1,
   "metadata": {
    "colab": {
     "base_uri": "https://localhost:8080/",
     "height": 235
    },
    "executionInfo": {
     "elapsed": 190,
     "status": "error",
     "timestamp": 1669159621276,
     "user": {
      "displayName": "Michael Facci",
      "userId": "04891211867868055548"
     },
     "user_tz": 300
    },
    "id": "bezwfyEQuqKF",
    "outputId": "830e1dea-d265-4883-81c3-aec757717831"
   },
   "outputs": [
    {
     "name": "stderr",
     "output_type": "stream",
     "text": [
      "2022-12-05 14:24:38.465512: I tensorflow/core/platform/cpu_feature_guard.cc:193] This TensorFlow binary is optimized with oneAPI Deep Neural Network Library (oneDNN) to use the following CPU instructions in performance-critical operations:  AVX2 FMA\n",
      "To enable them in other operations, rebuild TensorFlow with the appropriate compiler flags.\n",
      "2022-12-05 14:24:38.577030: W tensorflow/stream_executor/platform/default/dso_loader.cc:64] Could not load dynamic library 'libcudart.so.11.0'; dlerror: libcudart.so.11.0: cannot open shared object file: No such file or directory\n",
      "2022-12-05 14:24:38.577043: I tensorflow/stream_executor/cuda/cudart_stub.cc:29] Ignore above cudart dlerror if you do not have a GPU set up on your machine.\n",
      "2022-12-05 14:24:38.595136: E tensorflow/stream_executor/cuda/cuda_blas.cc:2981] Unable to register cuBLAS factory: Attempting to register factory for plugin cuBLAS when one has already been registered\n",
      "2022-12-05 14:24:39.042479: W tensorflow/stream_executor/platform/default/dso_loader.cc:64] Could not load dynamic library 'libnvinfer.so.7'; dlerror: libnvinfer.so.7: cannot open shared object file: No such file or directory\n",
      "2022-12-05 14:24:39.042525: W tensorflow/stream_executor/platform/default/dso_loader.cc:64] Could not load dynamic library 'libnvinfer_plugin.so.7'; dlerror: libnvinfer_plugin.so.7: cannot open shared object file: No such file or directory\n",
      "2022-12-05 14:24:39.042530: W tensorflow/compiler/tf2tensorrt/utils/py_utils.cc:38] TF-TRT Warning: Cannot dlopen some TensorRT libraries. If you would like to use Nvidia GPU with TensorRT, please make sure the missing libraries mentioned above are installed properly.\n"
     ]
    }
   ],
   "source": [
    "import tensorflow as tf\n",
    "# device_name = tf.test.gpu_device_name()\n",
    "# if device_name != '/device:GPU:0':\n",
    "#     raise SystemError('GPU device not found')\n",
    "# print('Found GPU at: {}'.format(device_name))"
   ]
  },
  {
   "cell_type": "code",
   "execution_count": 12,
   "metadata": {
    "executionInfo": {
     "elapsed": 881,
     "status": "ok",
     "timestamp": 1669159622314,
     "user": {
      "displayName": "Michael Facci",
      "userId": "04891211867868055548"
     },
     "user_tz": 300
    },
    "id": "JQfZMVKBvBFo"
   },
   "outputs": [],
   "source": [
    "%matplotlib inline\n",
    "import numpy as np\n",
    "import matplotlib.pyplot as plt\n",
    "import scipy.stats\n",
    "import pandas as pd\n",
    "import math as mt\n",
    "import random as rd\n",
    "from numpy.lib.arraysetops import intersect1d\n",
    "\n",
    "# packages and modules from ml article linked here: https://www.pluralsight.com/guides/machine-learning-neural-networks-scikit-learn\n",
    "import sklearn\n",
    "from sklearn.neural_network import MLPClassifier\n",
    "from sklearn.neural_network import MLPRegressor\n",
    "from sklearn.model_selection import train_test_split\n",
    "from sklearn.metrics import mean_squared_error\n",
    "from math import sqrt\n",
    "from sklearn.metrics import r2_score\n",
    "\n",
    "# ignore some of above, trying a different model!\n",
    "from sklearn.datasets import load_linnerud\n",
    "from sklearn.multioutput import MultiOutputRegressor\n",
    "from sklearn.linear_model import Ridge\n",
    "\n",
    "# for classifier \n",
    "from sklearn.datasets import make_multilabel_classification\n",
    "from sklearn.multioutput import MultiOutputClassifier\n",
    "from sklearn.linear_model import LogisticRegression\n",
    "\n",
    "# other\n",
    "from utils import type_to_int, type_to_int_dict_inv"
   ]
  },
  {
   "cell_type": "code",
   "execution_count": 3,
   "metadata": {
    "executionInfo": {
     "elapsed": 1325,
     "status": "ok",
     "timestamp": 1669159623633,
     "user": {
      "displayName": "Michael Facci",
      "userId": "04891211867868055548"
     },
     "user_tz": 300
    },
    "id": "5kQxOLJLwA3F"
   },
   "outputs": [],
   "source": [
    "# url='https://drive.google.com/file/d/1VzeIrzna8SDkJCnIrCIxn5LXnpx3WcrA/view?usp=sharing'\n",
    "# url='https://drive.google.com/uc?id=' + url.split('/')[-2]\n",
    "# poke = pd.read_csv(url) #import Pokemon data\n",
    "poke = pd.read_csv(\"pokemon_clean.csv\") #import Pokemon data\n",
    "\n",
    "# url2='https://drive.google.com/file/d/1WR9i10kZ6bkI_7WV4fWmOXXNlaKgnBZ0/view?usp=share_link'\n",
    "# url2='https://drive.google.com/uc?id=' + url2.split('/')[-2]\n",
    "# training_data = pd.read_csv(url2) #import training data\n",
    "training_data = pd.read_csv(\"trainingdata2202.csv\") #import training data\n",
    "\n",
    "poke = poke[poke.is_legendary == 0] #clean data for no legendaries\n",
    "poke.reset_index(drop = True,inplace = True)\n",
    "poke = poke.drop([131, 195, 196, 229, 348, 717]) #clean out problem children (Ditto, etc)\n",
    "poke.reset_index(drop = True,inplace = True)"
   ]
  },
  {
   "cell_type": "code",
   "execution_count": 4,
   "metadata": {
    "executionInfo": {
     "elapsed": 9,
     "status": "ok",
     "timestamp": 1669159623633,
     "user": {
      "displayName": "Michael Facci",
      "userId": "04891211867868055548"
     },
     "user_tz": 300
    },
    "id": "bjXModnZzRkQ"
   },
   "outputs": [
    {
     "data": {
      "text/html": [
       "<div>\n",
       "<style scoped>\n",
       "    .dataframe tbody tr th:only-of-type {\n",
       "        vertical-align: middle;\n",
       "    }\n",
       "\n",
       "    .dataframe tbody tr th {\n",
       "        vertical-align: top;\n",
       "    }\n",
       "\n",
       "    .dataframe thead th {\n",
       "        text-align: right;\n",
       "    }\n",
       "</style>\n",
       "<table border=\"1\" class=\"dataframe\">\n",
       "  <thead>\n",
       "    <tr style=\"text-align: right;\">\n",
       "      <th></th>\n",
       "      <th>Unnamed: 0</th>\n",
       "      <th>0</th>\n",
       "      <th>1</th>\n",
       "      <th>2</th>\n",
       "      <th>3</th>\n",
       "      <th>4</th>\n",
       "      <th>5</th>\n",
       "      <th>6</th>\n",
       "      <th>7</th>\n",
       "      <th>8</th>\n",
       "      <th>...</th>\n",
       "      <th>21</th>\n",
       "      <th>22</th>\n",
       "      <th>23</th>\n",
       "      <th>24</th>\n",
       "      <th>25</th>\n",
       "      <th>26</th>\n",
       "      <th>27</th>\n",
       "      <th>28</th>\n",
       "      <th>29</th>\n",
       "      <th>30</th>\n",
       "    </tr>\n",
       "  </thead>\n",
       "  <tbody>\n",
       "    <tr>\n",
       "      <th>0</th>\n",
       "      <td>0</td>\n",
       "      <td>Trevenant</td>\n",
       "      <td>Grimer</td>\n",
       "      <td>Sawk</td>\n",
       "      <td>Zorua</td>\n",
       "      <td>Tangela</td>\n",
       "      <td>Meowstic</td>\n",
       "      <td>Vulpix</td>\n",
       "      <td>Forretress</td>\n",
       "      <td>Wishiwashi</td>\n",
       "      <td>...</td>\n",
       "      <td>Hydreigon</td>\n",
       "      <td>Hypno</td>\n",
       "      <td>Delphox</td>\n",
       "      <td>Bisharp</td>\n",
       "      <td>Blastoise</td>\n",
       "      <td>Empoleon</td>\n",
       "      <td>Jolteon</td>\n",
       "      <td>Oranguru</td>\n",
       "      <td>Slowking</td>\n",
       "      <td>Kangaskhan</td>\n",
       "    </tr>\n",
       "    <tr>\n",
       "      <th>1</th>\n",
       "      <td>1</td>\n",
       "      <td>Arcanine</td>\n",
       "      <td>Tyrantrum</td>\n",
       "      <td>Venusaur</td>\n",
       "      <td>Budew</td>\n",
       "      <td>Kangaskhan</td>\n",
       "      <td>Braixen</td>\n",
       "      <td>Lickilicky</td>\n",
       "      <td>Victreebel</td>\n",
       "      <td>Espeon</td>\n",
       "      <td>...</td>\n",
       "      <td>Sneasel</td>\n",
       "      <td>Weavile</td>\n",
       "      <td>Greninja</td>\n",
       "      <td>Scizor</td>\n",
       "      <td>Slaking</td>\n",
       "      <td>Minior</td>\n",
       "      <td>Goodra</td>\n",
       "      <td>Ribombee</td>\n",
       "      <td>Lucario</td>\n",
       "      <td>Aerodactyl</td>\n",
       "    </tr>\n",
       "    <tr>\n",
       "      <th>2</th>\n",
       "      <td>2</td>\n",
       "      <td>Sawk</td>\n",
       "      <td>Butterfree</td>\n",
       "      <td>Poliwhirl</td>\n",
       "      <td>Tynamo</td>\n",
       "      <td>Seaking</td>\n",
       "      <td>Floette</td>\n",
       "      <td>Quagsire</td>\n",
       "      <td>Litten</td>\n",
       "      <td>Cloyster</td>\n",
       "      <td>...</td>\n",
       "      <td>Silvally</td>\n",
       "      <td>Seviper</td>\n",
       "      <td>Alakazam</td>\n",
       "      <td>Swalot</td>\n",
       "      <td>Oricorio</td>\n",
       "      <td>Delphox</td>\n",
       "      <td>Nidoqueen</td>\n",
       "      <td>Salazzle</td>\n",
       "      <td>Steelix</td>\n",
       "      <td>Typhlosion</td>\n",
       "    </tr>\n",
       "    <tr>\n",
       "      <th>3</th>\n",
       "      <td>3</td>\n",
       "      <td>Butterfree</td>\n",
       "      <td>Wurmple</td>\n",
       "      <td>Kangaskhan</td>\n",
       "      <td>Vibrava</td>\n",
       "      <td>Corsola</td>\n",
       "      <td>Toucannon</td>\n",
       "      <td>Hitmonlee</td>\n",
       "      <td>Ursaring</td>\n",
       "      <td>Karrablast</td>\n",
       "      <td>...</td>\n",
       "      <td>Greninja</td>\n",
       "      <td>Alakazam</td>\n",
       "      <td>Manectric</td>\n",
       "      <td>Jellicent</td>\n",
       "      <td>Absol</td>\n",
       "      <td>Mienshao</td>\n",
       "      <td>Porygon-Z</td>\n",
       "      <td>Arcanine</td>\n",
       "      <td>Aegislash</td>\n",
       "      <td>Chimecho</td>\n",
       "    </tr>\n",
       "    <tr>\n",
       "      <th>4</th>\n",
       "      <td>4</td>\n",
       "      <td>Elgyem</td>\n",
       "      <td>Mamoswine</td>\n",
       "      <td>Ambipom</td>\n",
       "      <td>Greninja</td>\n",
       "      <td>Caterpie</td>\n",
       "      <td>Toucannon</td>\n",
       "      <td>Magcargo</td>\n",
       "      <td>Stunky</td>\n",
       "      <td>Torracat</td>\n",
       "      <td>...</td>\n",
       "      <td>Purrloin</td>\n",
       "      <td>Liepard</td>\n",
       "      <td>Pansage</td>\n",
       "      <td>Simisage</td>\n",
       "      <td>Pansear</td>\n",
       "      <td>Simisear</td>\n",
       "      <td>Servine</td>\n",
       "      <td>Phione</td>\n",
       "      <td>Froslass</td>\n",
       "      <td>Gallade</td>\n",
       "    </tr>\n",
       "  </tbody>\n",
       "</table>\n",
       "<p>5 rows × 32 columns</p>\n",
       "</div>"
      ],
      "text/plain": [
       "   Unnamed: 0           0           1           2         3           4  \\\n",
       "0           0   Trevenant      Grimer        Sawk     Zorua     Tangela   \n",
       "1           1    Arcanine   Tyrantrum    Venusaur     Budew  Kangaskhan   \n",
       "2           2        Sawk  Butterfree   Poliwhirl    Tynamo     Seaking   \n",
       "3           3  Butterfree     Wurmple  Kangaskhan   Vibrava     Corsola   \n",
       "4           4      Elgyem   Mamoswine     Ambipom  Greninja    Caterpie   \n",
       "\n",
       "           5           6           7           8  ...         21        22  \\\n",
       "0   Meowstic      Vulpix  Forretress  Wishiwashi  ...  Hydreigon     Hypno   \n",
       "1    Braixen  Lickilicky  Victreebel      Espeon  ...    Sneasel   Weavile   \n",
       "2    Floette    Quagsire      Litten    Cloyster  ...   Silvally   Seviper   \n",
       "3  Toucannon   Hitmonlee    Ursaring  Karrablast  ...   Greninja  Alakazam   \n",
       "4  Toucannon    Magcargo      Stunky    Torracat  ...   Purrloin   Liepard   \n",
       "\n",
       "          23         24         25        26         27        28         29  \\\n",
       "0    Delphox    Bisharp  Blastoise  Empoleon    Jolteon  Oranguru   Slowking   \n",
       "1   Greninja     Scizor    Slaking    Minior     Goodra  Ribombee    Lucario   \n",
       "2   Alakazam     Swalot   Oricorio   Delphox  Nidoqueen  Salazzle    Steelix   \n",
       "3  Manectric  Jellicent      Absol  Mienshao  Porygon-Z  Arcanine  Aegislash   \n",
       "4    Pansage   Simisage    Pansear  Simisear    Servine    Phione   Froslass   \n",
       "\n",
       "           30  \n",
       "0  Kangaskhan  \n",
       "1  Aerodactyl  \n",
       "2  Typhlosion  \n",
       "3    Chimecho  \n",
       "4     Gallade  \n",
       "\n",
       "[5 rows x 32 columns]"
      ]
     },
     "execution_count": 4,
     "metadata": {},
     "output_type": "execute_result"
    }
   ],
   "source": [
    "# zeroth row data point\n",
    "# pokemon_name = training_data.iloc[0][1] #pokemon 1 of our team is index 1 for column\n",
    "# pokemon_name_last = training_data.iloc[0][11] #last pokemon of opposing team is index 11 for column\n",
    "\n",
    "# get desired stats\n",
    "# temp = poke.loc[poke[\"name\"]==pokemon_name].squeeze()\n",
    "# temp[\"name\"],temp[\"hp\"],[temp[\"type1\"],temp[\"type2\"]],temp[\"attack\"],temp[\"defense\"],temp[\"sp_attack\"],temp[\"sp_defense\"],temp[\"speed\"]\n",
    "\n",
    "training_data.head()"
   ]
  },
  {
   "cell_type": "code",
   "execution_count": 5,
   "metadata": {
    "executionInfo": {
     "elapsed": 8,
     "status": "ok",
     "timestamp": 1669159623634,
     "user": {
      "displayName": "Michael Facci",
      "userId": "04891211867868055548"
     },
     "user_tz": 300
    },
    "id": "9R1WFNzg07nT"
   },
   "outputs": [],
   "source": [
    "X = training_data.iloc[:,1:12]\n",
    "Y = training_data.iloc[:,12:-1 ]"
   ]
  },
  {
   "cell_type": "code",
   "execution_count": 6,
   "metadata": {
    "colab": {
     "base_uri": "https://localhost:8080/"
    },
    "executionInfo": {
     "elapsed": 13897,
     "status": "ok",
     "timestamp": 1669159637524,
     "user": {
      "displayName": "Michael Facci",
      "userId": "04891211867868055548"
     },
     "user_tz": 300
    },
    "id": "vtGmgGQb20U0",
    "outputId": "b8044e32-4599-4f98-f0d3-4edda5af2567"
   },
   "outputs": [
    {
     "name": "stdout",
     "output_type": "stream",
     "text": [
      "[0 0 0 0 0 0 0 1 0 0 0 1 0 0 0 0 0 0 0 0 0 1 0 0 0 0 0 0 0 0 0 0 0 0 0 0 0\n",
      " 1 0 0 0 0 0 0 0 0 0 0 0 0 0 0 0 0 0 0 0 0 0 0 0 0 0 0 0 0 0 0 0 0 1 0 0 0\n",
      " 0 0 0 0 0 0 0 0 0 1 0 0 0 0 0 0 0 0 0 0 0 0 0 0 0 0 0 0 0 1 0 0 0 0 0 0 0\n",
      " 0 0 0 0 0 0 1 0 0 0 0 1 0 0 0 0 0 0 0 0 0 1 0 1 0 0 0 0 0 0 0 0 0 0 0 0 0\n",
      " 0 0 0 0 0 0 1 0 0 0 0 0 0 0 0 0 1 1 0 0 0 0 0 0 0 0 0 0 0 0 0 0 0 0 0 0 0\n",
      " 0 0 0 0 0 0 0 0 1 0 0 0 0] [474 166 167 325 105 130 465 210 150 330 145  80 435 160 180 466 187 155\n",
      " 299 115 103 465 130 215 620 170 180 535 220 165 355 131 122] \n",
      "\n",
      "[0 0 0 0 0 0 0 0 0 0 0 0 0 1 0 0 0 0] [600 325 160]\n"
     ]
    }
   ],
   "source": [
    "pokemon_features_df = pd.read_csv('pokemon_features.csv', index_col='name')\n",
    "type_cols = pokemon_features_df.columns[:18]\n",
    "stat_cols = pokemon_features_df.columns[18:]\n",
    "typesX = np.stack([pokemon_features_df.loc[row,type_cols].to_numpy().reshape(-1) for _,row in X.iterrows()], axis=0)\n",
    "statsX = np.stack([pokemon_features_df.loc[row,stat_cols].to_numpy().reshape(-1) for _,row in X.iterrows()], axis=0)\n",
    "typesY = np.stack([pokemon_features_df.loc[row,type_cols].to_numpy().reshape(-1) for _,row in Y[['11']].iterrows()], axis=0)\n",
    "statsY = np.stack([pokemon_features_df.loc[row,stat_cols].to_numpy().reshape(-1) for _,row in Y[['11']].iterrows()], axis=0)\n",
    "\n",
    "print(typesX[0], statsX[0], '\\n')\n",
    "print(typesY[0], statsY[0])"
   ]
  },
  {
   "cell_type": "code",
   "execution_count": 7,
   "metadata": {
    "executionInfo": {
     "elapsed": 9,
     "status": "ok",
     "timestamp": 1669159638851,
     "user": {
      "displayName": "Michael Facci",
      "userId": "04891211867868055548"
     },
     "user_tz": 300
    },
    "id": "R4mHB1TZ9PvJ"
   },
   "outputs": [],
   "source": [
    "# don't need this right now, it's for a single output binary classifier (from previous reference article) TO DELETE\n",
    "# X_train, X_test, y_train, y_test = train_test_split(featureX.transpose(), featureY.transpose(), test_size=0.30, random_state=40)\n",
    "# print(X_train.shape); print(X_test.shape)"
   ]
  },
  {
   "cell_type": "markdown",
   "metadata": {
    "id": "EtIrazpDAS2w"
   },
   "source": [
    "For our type output, this could be a binary classifer with classes 1 (is the type) and 0 (is not the type) with 18 outputs. \n",
    "\n",
    "For the stats predictor, we cannot use a classifier unless we had all possible classes (every integer option: not feasible), instead we should use a regression model?)\n",
    "\n",
    "Idea: two different models, one for classifying on type and one for regression\n",
    "\n",
    "Idea2: use entirely a regression model and pick the type 1/2 that are the closest to 1"
   ]
  },
  {
   "cell_type": "code",
   "execution_count": 8,
   "metadata": {
    "executionInfo": {
     "elapsed": 8,
     "status": "ok",
     "timestamp": 1669159638851,
     "user": {
      "displayName": "Michael Facci",
      "userId": "04891211867868055548"
     },
     "user_tz": 300
    },
    "id": "PaSwLQRnBvNb"
   },
   "outputs": [],
   "source": [
    "# regr = MultiOutputRegressor(Ridge(random_state=123)).fit(featureX, featureY)\n",
    "# regr.predict(featureX[[0]])"
   ]
  },
  {
   "cell_type": "markdown",
   "metadata": {
    "id": "FVfGQp4tDK8n"
   },
   "source": [
    "This worked kinda but also not! Stats seems like reasonable numbers for stats, but type doesn't make much sense. Try: two models, one for type (classifier multioutput) and one for stats (regressor multioutput) and then use both of these results and combine them for our total output :)"
   ]
  },
  {
   "cell_type": "code",
   "execution_count": 9,
   "metadata": {},
   "outputs": [],
   "source": [
    "def gotta_match_it_all(types_to_be_matched, stats_to_be_matched):\n",
    "    top_num = 5\n",
    "    types_matched = list(pokemon_features_df.index[((pokemon_features_df[type_cols] == 1) & (pokemon_features_df[type_cols] == types_to_be_matched)).any(axis=1)])\n",
    "    pkm_matched_all = (pokemon_features_df[stat_cols] - stats_to_be_matched).abs().sum(axis=1).sort_values()\n",
    "    if (len(types_matched) != 0):\n",
    "        pkm_matched_with_type = pkm_matched_all[types_matched].sort_values()\n",
    "        return pkm_matched_with_type.head(top_num)\n",
    "    else:\n",
    "        return pkm_matched_all.head(top_num)"
   ]
  },
  {
   "cell_type": "code",
   "execution_count": 10,
   "metadata": {},
   "outputs": [],
   "source": [
    "def compare_results(ground_truth, pred_types, pred_stats, start_compare, end_compare, test_index):\n",
    "    test_size = len(test_index)\n",
    "    pred = [gotta_match_it_all(pred_types[i], pred_stats[i]).index for i in range(test_size)]\n",
    "    truth_to_compare = ground_truth.iloc[:,start_compare:end_compare]\n",
    "    accurate = [intersect1d(pred[i], truth_to_compare.iloc[test_index[i]]) for i in range(test_size)]\n",
    "    return np.average([len(accurate[i]) for i in range(test_size)]) #/(end_compare-start_compare)"
   ]
  },
  {
   "cell_type": "code",
   "execution_count": 13,
   "metadata": {},
   "outputs": [
    {
     "name": "stdout",
     "output_type": "stream",
     "text": [
      "367 1835\n"
     ]
    }
   ],
   "source": [
    "data_total = len(Y)\n",
    "test_size = mt.floor(data_total/6)\n",
    "test_index = sorted(rd.sample(range(0, data_total), test_size))\n",
    "training_index = list(set(range(data_total)) - set(test_index))\n",
    "print(len(test_index),len(training_index))\n",
    "\n",
    "typesX_test = typesX[test_index]\n",
    "statsX_test = statsX[test_index]\n",
    "typesX_train = typesX[training_index]\n",
    "statsX_train = statsX[training_index]\n",
    "typesY_train = typesY[training_index]\n",
    "statsY_train = statsY[training_index]\n",
    "\n",
    "clf = MultiOutputClassifier(LogisticRegression()).fit(typesX_train, typesY_train)\n",
    "typesPredict = clf.predict(typesX_test)\n",
    "regr = MultiOutputRegressor(Ridge(random_state = 123)).fit(statsX_train, statsY_train)\n",
    "statsPredict = regr.predict(statsX_test)"
   ]
  },
  {
   "cell_type": "code",
   "execution_count": 19,
   "metadata": {},
   "outputs": [],
   "source": [
    "num_val = 10\n",
    "performance = np.zeros(num_val)\n",
    "\n",
    "for i in range(num_val):\n",
    "    data_total = len(Y)\n",
    "    test_size = mt.floor(data_total/6)\n",
    "    test_index = sorted(rd.sample(range(0, data_total), test_size))\n",
    "    training_index = list(set(range(data_total)) - set(test_index))\n",
    "\n",
    "    typesX_test = typesX[test_index]\n",
    "    statsX_test = statsX[test_index]\n",
    "    typesX_train = typesX[training_index]\n",
    "    statsX_train = statsX[training_index]\n",
    "    typesY_train = typesY[training_index]\n",
    "    statsY_train = statsY[training_index]\n",
    "\n",
    "    clf = MultiOutputClassifier(LogisticRegression()).fit(typesX_train, typesY_train)\n",
    "    typesPredict = clf.predict(typesX_test)\n",
    "    regr = MultiOutputRegressor(Ridge(random_state = 123)).fit(statsX_train, statsY_train)\n",
    "    statsPredict=regr.predict(statsX_test)\n",
    "\n",
    "    performance[i] =  compare_results(Y, typesPredict, statsPredict, 0, 10, test_index)"
   ]
  },
  {
   "cell_type": "code",
   "execution_count": 20,
   "metadata": {},
   "outputs": [
    {
     "name": "stdout",
     "output_type": "stream",
     "text": [
      "[0.92643052 0.95912807 0.88555858 0.94277929 0.96457766 0.86648501\n",
      " 0.85013624 0.98365123 0.97820163 0.96457766] \n",
      "\n",
      "average intersection:  0.9321525885558583\n"
     ]
    }
   ],
   "source": [
    "print(performance, '\\n')\n",
    "print(\"average intersection: \", np.mean(performance))"
   ]
  },
  {
   "cell_type": "code",
   "execution_count": 15,
   "metadata": {},
   "outputs": [
    {
     "name": "stderr",
     "output_type": "stream",
     "text": [
      "2022-12-05 14:25:25.623500: E tensorflow/stream_executor/cuda/cuda_driver.cc:265] failed call to cuInit: CUDA_ERROR_COMPAT_NOT_SUPPORTED_ON_DEVICE: forward compatibility was attempted on non supported HW\n",
      "2022-12-05 14:25:25.623543: I tensorflow/stream_executor/cuda/cuda_diagnostics.cc:169] retrieving CUDA diagnostic information for host: papaya\n",
      "2022-12-05 14:25:25.623552: I tensorflow/stream_executor/cuda/cuda_diagnostics.cc:176] hostname: papaya\n",
      "2022-12-05 14:25:25.623645: I tensorflow/stream_executor/cuda/cuda_diagnostics.cc:200] libcuda reported version is: 470.161.3\n",
      "2022-12-05 14:25:25.623672: I tensorflow/stream_executor/cuda/cuda_diagnostics.cc:204] kernel reported version is: 470.141.3\n",
      "2022-12-05 14:25:25.623679: E tensorflow/stream_executor/cuda/cuda_diagnostics.cc:313] kernel version 470.141.3 does not match DSO version 470.161.3 -- cannot find working devices in this configuration\n",
      "2022-12-05 14:25:25.625804: I tensorflow/core/platform/cpu_feature_guard.cc:193] This TensorFlow binary is optimized with oneAPI Deep Neural Network Library (oneDNN) to use the following CPU instructions in performance-critical operations:  AVX2 FMA\n",
      "To enable them in other operations, rebuild TensorFlow with the appropriate compiler flags.\n"
     ]
    },
    {
     "data": {
      "text/plain": [
       "name\n",
       "Hydreigon     20.535621\n",
       "Dragonite     24.437896\n",
       "Kangaskhan    25.632259\n",
       "Scizor        32.437896\n",
       "Pinsir        39.367741\n",
       "dtype: float64"
      ]
     },
     "execution_count": 15,
     "metadata": {},
     "output_type": "execute_result"
    }
   ],
   "source": [
    "# just to demonstrate how the model works \n",
    "gotta_match_it_all(clf.predict(tf.reshape(typesX[150],(1, -1))), regr.predict(tf.reshape(statsX[150],(1, -1))))"
   ]
  },
  {
   "cell_type": "code",
   "execution_count": 16,
   "metadata": {},
   "outputs": [
    {
     "data": {
      "text/plain": [
       "name\n",
       "Ampharos      26.593432\n",
       "Scizor        26.794777\n",
       "Kangaskhan    31.794777\n",
       "Hydreigon     38.615020\n",
       "Dragonite     38.615020\n",
       "dtype: float64"
      ]
     },
     "execution_count": 16,
     "metadata": {},
     "output_type": "execute_result"
    }
   ],
   "source": [
    "gotta_match_it_all(clf.predict(tf.reshape(typesX[600],(1, -1))), regr.predict(tf.reshape(statsX[600],(1, -1))))"
   ]
  },
  {
   "cell_type": "code",
   "execution_count": 17,
   "metadata": {},
   "outputs": [
    {
     "data": {
      "text/plain": [
       "name\n",
       "Dragonite     70.703412\n",
       "Hydreigon     70.703412\n",
       "Kommo-o       81.214729\n",
       "Garchomp     109.296588\n",
       "Altaria      110.703412\n",
       "dtype: float64"
      ]
     },
     "execution_count": 17,
     "metadata": {},
     "output_type": "execute_result"
    }
   ],
   "source": [
    "gotta_match_it_all(clf.predict(tf.reshape(typesX[1220],(1, -1))), regr.predict(tf.reshape(statsX[1220],(1, -1))))"
   ]
  },
  {
   "cell_type": "code",
   "execution_count": 18,
   "metadata": {},
   "outputs": [
    {
     "data": {
      "text/plain": [
       "name\n",
       "Kangaskhan    21.334820\n",
       "Hydreigon     22.029046\n",
       "Dragonite     22.029046\n",
       "Scizor        25.529247\n",
       "Heracross     37.165382\n",
       "dtype: float64"
      ]
     },
     "execution_count": 18,
     "metadata": {},
     "output_type": "execute_result"
    }
   ],
   "source": [
    "gotta_match_it_all(clf.predict(tf.reshape(typesX[1000],(1, -1))), regr.predict(tf.reshape(statsX[1000],(1, -1))))"
   ]
  },
  {
   "cell_type": "code",
   "execution_count": null,
   "metadata": {},
   "outputs": [],
   "source": [
    "# def type_match(types_to_be_matched):\n",
    "#     pkm_matched = list(pokemon_features_df.index[(pokemon_features_df[type_cols] == types_to_be_matched).all(axis=1)])\n",
    "#     if (len(pkm_matched) == 0):\n",
    "#         pkm_matched = list(pokemon_features_df.index[((pokemon_features_df[type_cols] == 1) & (pokemon_features_df[type_cols] == types_to_be_matched)).any(axis=1)])\n",
    "#     return pkm_matched"
   ]
  },
  {
   "cell_type": "code",
   "execution_count": null,
   "metadata": {},
   "outputs": [],
   "source": [
    "# def stat_match(types_matched, stats_to_be_matched):\n",
    "#     pkm_matched_all = (pokemon_features_df[stat_cols] - stats_to_be_matched).abs().sum(axis=1).sort_values()\n",
    "#     if (len(types_matched) != 0):\n",
    "#         pkm_matched_with_type = pkm_matched_all[types_matched].sort_values()\n",
    "#     return pkm_matched_all.head(5), pkm_matched_with_type.head(5)"
   ]
  },
  {
   "cell_type": "code",
   "execution_count": null,
   "metadata": {},
   "outputs": [],
   "source": [
    "### test cell\n",
    "# pd.Series(typesPredict.sum(axis=1)).value_counts()\n",
    "# np.where(typesPredict.sum(axis=1)==1)\n",
    "# print(type_match(typesPredict[0]))\n",
    "# stat_match(type_match(typesPredict[0]), statsPredict[0])"
   ]
  },
  {
   "cell_type": "code",
   "execution_count": null,
   "metadata": {},
   "outputs": [],
   "source": [
    "# def compare_results(ground_truth,prediction_types,prediction_stats,start_compare,end_compare,start_index,end_index):\n",
    "#   percent_accurate = np.zeros(end_index-start_index)\n",
    "#   for i in range(start_index,end_index):\n",
    "#     predict = gotta_match_it_all(prediction_types[i], prediction_stats[i])\n",
    "#     percent_accurate[i] = len(intersect1d(predict.index,ground_truth.iloc[i][start_compare:end_compare]))/(end_compare-start_compare)\n",
    "#   return np.average(percent_accurate)"
   ]
  },
  {
   "cell_type": "code",
   "execution_count": null,
   "metadata": {},
   "outputs": [],
   "source": [
    "# plot_data = np.zeros(19)\n",
    "# for i in range(1,20):\n",
    "#   plot_data[i-1] = compare_results(Y.iloc([test_index]),typesPredict,statsPredict,0,i,0,test_size)\n",
    "# plt.plot(range(1,20),plot_data)"
   ]
  },
  {
   "cell_type": "code",
   "execution_count": null,
   "metadata": {},
   "outputs": [],
   "source": [
    "### test_cell\n",
    "# pred_1 = [gotta_match_it_all(typesPredict[i], statsPredict[i]).index for i in range(test_size)]\n",
    "# truth_to_compare_1 = Y.iloc[:,0:1]\n",
    "# accurate_1 = [intersect1d(pred_1[i], truth_to_compare_1.iloc[test_index[i]]) for i in range(test_size)]\n",
    "\n",
    "# compare_results(Y, typesPredict, statsPredict, 0, 20, test_index)\n",
    "# #[gotta_match_it_all(typesPredict[i], statsPredict[i]).index for i in range(test_size)]\n",
    "# #Y.iloc[:,1:5]\n",
    "# #[len(accurate_1[i]) for i in range(test_size)]\n",
    "\n",
    "# plot_data = [compare_results(Y, typesPredict, statsPredict, i, i+1, test_index) for i in range(20)]\n",
    "# plt.plot(range(20),plot_data)"
   ]
  },
  {
   "cell_type": "markdown",
   "metadata": {
    "id": "5742sXFPnrDt"
   },
   "source": [
    "This binary multiclass output does not return all outputs as having a type. We really need it to return 1 or 2 types for our output pokemon (this is a BIG part of choosing pokemon to battle). New idea: make each type a class with an int 0-17, or 1-18, and maybe another class as a placeholder for a type when a pokemon has only 1 type (or simply have [18 18]. Then, use a multiclass classifier with an output of 2 (representing types)\n",
    "\n",
    "Need to make data changes :'("
   ]
  },
  {
   "cell_type": "code",
   "execution_count": 22,
   "metadata": {
    "id": "H9W72x0RoJt_"
   },
   "outputs": [],
   "source": [
    "# types_pred = clf.predict(typesX)\n",
    "# types_pred_nonzero_indecies = np.where(np.sum(types_pred,axis=1) >= 4)[0]\n",
    "# types_pred_nonzero = types_pred[types_pred_nonzero_indeces]\n",
    "\n",
    "# types_pred_nonzero_indecies"
   ]
  },
  {
   "cell_type": "markdown",
   "metadata": {
    "id": "YJ6cVlOepDma"
   },
   "source": [
    "MAYBE types doooooo only matter in 1/3 of our battles ?? (:\n",
    "\n",
    "If type isn't  all zero, then condition on type and search for nearest neighbor of that type?\n",
    "weight based on the team's deficiency\n"
   ]
  },
  {
   "cell_type": "markdown",
   "metadata": {},
   "source": [
    "CHAMPIONSHIP TEAMS WITH USER INPUT"
   ]
  },
  {
   "cell_type": "code",
   "execution_count": 23,
   "metadata": {},
   "outputs": [
    {
     "data": {
      "text/html": [
       "<div>\n",
       "<style scoped>\n",
       "    .dataframe tbody tr th:only-of-type {\n",
       "        vertical-align: middle;\n",
       "    }\n",
       "\n",
       "    .dataframe tbody tr th {\n",
       "        vertical-align: top;\n",
       "    }\n",
       "\n",
       "    .dataframe thead th {\n",
       "        text-align: right;\n",
       "    }\n",
       "</style>\n",
       "<table border=\"1\" class=\"dataframe\">\n",
       "  <thead>\n",
       "    <tr style=\"text-align: right;\">\n",
       "      <th></th>\n",
       "      <th>0</th>\n",
       "      <th>1</th>\n",
       "      <th>2</th>\n",
       "      <th>3</th>\n",
       "      <th>4</th>\n",
       "      <th>5</th>\n",
       "      <th>6</th>\n",
       "      <th>7</th>\n",
       "      <th>8</th>\n",
       "      <th>9</th>\n",
       "      <th>10</th>\n",
       "    </tr>\n",
       "  </thead>\n",
       "  <tbody>\n",
       "    <tr>\n",
       "      <th>0</th>\n",
       "      <td>Gyarados</td>\n",
       "      <td>Raichu</td>\n",
       "      <td>Quagsire</td>\n",
       "      <td>Cloyster</td>\n",
       "      <td>Slowking</td>\n",
       "      <td>Milotic</td>\n",
       "      <td>Gothitelle</td>\n",
       "      <td>Volcarona</td>\n",
       "      <td>Escavalier</td>\n",
       "      <td>Conkeldurr</td>\n",
       "      <td>Hydreigon</td>\n",
       "    </tr>\n",
       "    <tr>\n",
       "      <th>1</th>\n",
       "      <td>Gyarados</td>\n",
       "      <td>Raichu</td>\n",
       "      <td>Quagsire</td>\n",
       "      <td>Cloyster</td>\n",
       "      <td>Slowking</td>\n",
       "      <td>Milotic</td>\n",
       "      <td>Aerodactyl</td>\n",
       "      <td>Scrafty</td>\n",
       "      <td>Eelektross</td>\n",
       "      <td>Krookodile</td>\n",
       "      <td>Haxorus</td>\n",
       "    </tr>\n",
       "    <tr>\n",
       "      <th>2</th>\n",
       "      <td>Gyarados</td>\n",
       "      <td>Raichu</td>\n",
       "      <td>Quagsire</td>\n",
       "      <td>Cloyster</td>\n",
       "      <td>Slowking</td>\n",
       "      <td>Milotic</td>\n",
       "      <td>Cofagrigus</td>\n",
       "      <td>Scrafty</td>\n",
       "      <td>Reuniclus</td>\n",
       "      <td>Conkeldurr</td>\n",
       "      <td>Emboar</td>\n",
       "    </tr>\n",
       "    <tr>\n",
       "      <th>3</th>\n",
       "      <td>Gyarados</td>\n",
       "      <td>Raichu</td>\n",
       "      <td>Quagsire</td>\n",
       "      <td>Cloyster</td>\n",
       "      <td>Slowking</td>\n",
       "      <td>Salamence</td>\n",
       "      <td>Electivire</td>\n",
       "      <td>Incineroar</td>\n",
       "      <td>Gastrodon</td>\n",
       "      <td>Snorlax</td>\n",
       "      <td>Ferrothorn</td>\n",
       "    </tr>\n",
       "    <tr>\n",
       "      <th>4</th>\n",
       "      <td>Gyarados</td>\n",
       "      <td>Raichu</td>\n",
       "      <td>Quagsire</td>\n",
       "      <td>Cloyster</td>\n",
       "      <td>Slowking</td>\n",
       "      <td>Gengar</td>\n",
       "      <td>Sceptile</td>\n",
       "      <td>Gliscor</td>\n",
       "      <td>Incineroar</td>\n",
       "      <td>Haxorus</td>\n",
       "      <td>Politoed</td>\n",
       "    </tr>\n",
       "    <tr>\n",
       "      <th>5</th>\n",
       "      <td>Gyarados</td>\n",
       "      <td>Raichu</td>\n",
       "      <td>Quagsire</td>\n",
       "      <td>Cloyster</td>\n",
       "      <td>Slowking</td>\n",
       "      <td>Metagross</td>\n",
       "      <td>Electivire</td>\n",
       "      <td>Gliscor</td>\n",
       "      <td>Incineroar</td>\n",
       "      <td>Mimikyu</td>\n",
       "      <td>Snorlax</td>\n",
       "    </tr>\n",
       "    <tr>\n",
       "      <th>6</th>\n",
       "      <td>Gyarados</td>\n",
       "      <td>Raichu</td>\n",
       "      <td>Quagsire</td>\n",
       "      <td>Cloyster</td>\n",
       "      <td>Slowking</td>\n",
       "      <td>Gyarados</td>\n",
       "      <td>Garchomp</td>\n",
       "      <td>Talonflame</td>\n",
       "      <td>Pachirisu</td>\n",
       "      <td>Gothitelle</td>\n",
       "      <td>Gardevoir</td>\n",
       "    </tr>\n",
       "    <tr>\n",
       "      <th>7</th>\n",
       "      <td>Gyarados</td>\n",
       "      <td>Raichu</td>\n",
       "      <td>Quagsire</td>\n",
       "      <td>Cloyster</td>\n",
       "      <td>Slowking</td>\n",
       "      <td>Charizard</td>\n",
       "      <td>Lucario</td>\n",
       "      <td>Garchomp</td>\n",
       "      <td>Mamoswine</td>\n",
       "      <td>Tyranitar</td>\n",
       "      <td>Salamence</td>\n",
       "    </tr>\n",
       "    <tr>\n",
       "      <th>8</th>\n",
       "      <td>Gyarados</td>\n",
       "      <td>Raichu</td>\n",
       "      <td>Quagsire</td>\n",
       "      <td>Cloyster</td>\n",
       "      <td>Slowking</td>\n",
       "      <td>Mawile</td>\n",
       "      <td>Conkeldurr</td>\n",
       "      <td>Eelektross</td>\n",
       "      <td>Hydreigon</td>\n",
       "      <td>Tyranitar</td>\n",
       "      <td>Aegislash</td>\n",
       "    </tr>\n",
       "    <tr>\n",
       "      <th>9</th>\n",
       "      <td>Gyarados</td>\n",
       "      <td>Raichu</td>\n",
       "      <td>Quagsire</td>\n",
       "      <td>Cloyster</td>\n",
       "      <td>Slowking</td>\n",
       "      <td>Altaria</td>\n",
       "      <td>Gardevoir</td>\n",
       "      <td>Marowak</td>\n",
       "      <td>Krookodile</td>\n",
       "      <td>Whimsicott</td>\n",
       "      <td>Skarmory</td>\n",
       "    </tr>\n",
       "    <tr>\n",
       "      <th>10</th>\n",
       "      <td>Gyarados</td>\n",
       "      <td>Raichu</td>\n",
       "      <td>Quagsire</td>\n",
       "      <td>Cloyster</td>\n",
       "      <td>Slowking</td>\n",
       "      <td>Espeon</td>\n",
       "      <td>Arcanine</td>\n",
       "      <td>Garchomp</td>\n",
       "      <td>Ninetales</td>\n",
       "      <td>Mandibuzz</td>\n",
       "      <td>Ampharos</td>\n",
       "    </tr>\n",
       "    <tr>\n",
       "      <th>11</th>\n",
       "      <td>Gyarados</td>\n",
       "      <td>Raichu</td>\n",
       "      <td>Quagsire</td>\n",
       "      <td>Cloyster</td>\n",
       "      <td>Slowking</td>\n",
       "      <td>Kingdra</td>\n",
       "      <td>Gyarados</td>\n",
       "      <td>Marowak</td>\n",
       "      <td>Garchomp</td>\n",
       "      <td>Oranguru</td>\n",
       "      <td>Ferrothorn</td>\n",
       "    </tr>\n",
       "  </tbody>\n",
       "</table>\n",
       "</div>"
      ],
      "text/plain": [
       "          0       1         2         3         4          5           6   \\\n",
       "0   Gyarados  Raichu  Quagsire  Cloyster  Slowking    Milotic  Gothitelle   \n",
       "1   Gyarados  Raichu  Quagsire  Cloyster  Slowking    Milotic  Aerodactyl   \n",
       "2   Gyarados  Raichu  Quagsire  Cloyster  Slowking    Milotic  Cofagrigus   \n",
       "3   Gyarados  Raichu  Quagsire  Cloyster  Slowking  Salamence  Electivire   \n",
       "4   Gyarados  Raichu  Quagsire  Cloyster  Slowking     Gengar    Sceptile   \n",
       "5   Gyarados  Raichu  Quagsire  Cloyster  Slowking  Metagross  Electivire   \n",
       "6   Gyarados  Raichu  Quagsire  Cloyster  Slowking   Gyarados    Garchomp   \n",
       "7   Gyarados  Raichu  Quagsire  Cloyster  Slowking  Charizard     Lucario   \n",
       "8   Gyarados  Raichu  Quagsire  Cloyster  Slowking     Mawile  Conkeldurr   \n",
       "9   Gyarados  Raichu  Quagsire  Cloyster  Slowking    Altaria   Gardevoir   \n",
       "10  Gyarados  Raichu  Quagsire  Cloyster  Slowking     Espeon    Arcanine   \n",
       "11  Gyarados  Raichu  Quagsire  Cloyster  Slowking    Kingdra    Gyarados   \n",
       "\n",
       "            7           8           9           10  \n",
       "0    Volcarona  Escavalier  Conkeldurr   Hydreigon  \n",
       "1      Scrafty  Eelektross  Krookodile     Haxorus  \n",
       "2      Scrafty   Reuniclus  Conkeldurr      Emboar  \n",
       "3   Incineroar   Gastrodon     Snorlax  Ferrothorn  \n",
       "4      Gliscor  Incineroar     Haxorus    Politoed  \n",
       "5      Gliscor  Incineroar     Mimikyu     Snorlax  \n",
       "6   Talonflame   Pachirisu  Gothitelle   Gardevoir  \n",
       "7     Garchomp   Mamoswine   Tyranitar   Salamence  \n",
       "8   Eelektross   Hydreigon   Tyranitar   Aegislash  \n",
       "9      Marowak  Krookodile  Whimsicott    Skarmory  \n",
       "10    Garchomp   Ninetales   Mandibuzz    Ampharos  \n",
       "11     Marowak    Garchomp    Oranguru  Ferrothorn  "
      ]
     },
     "execution_count": 23,
     "metadata": {},
     "output_type": "execute_result"
    }
   ],
   "source": [
    "# Championship Teams\n",
    "championship_teams = np.array([[\"Milotic\",\"Gothitelle\",\"Volcarona\",\"Escavalier\",\"Conkeldurr\",\"Hydreigon\"],\n",
    "                      [\"Milotic\",\"Aerodactyl\",\"Scrafty\",\"Eelektross\",\"Krookodile\",\"Haxorus\"],\n",
    "                      [\"Milotic\",\"Cofagrigus\",\"Scrafty\",\"Reuniclus\",\"Conkeldurr\",\"Emboar\"],\n",
    "                      [\"Salamence\",\"Electivire\",\"Incineroar\",\"Gastrodon\",\"Snorlax\",\"Ferrothorn\"],\n",
    "                      [\"Gengar\",\"Sceptile\",\"Gliscor\",\"Incineroar\",\"Haxorus\",\"Politoed\"],\n",
    "                      [\"Metagross\",\"Electivire\",\"Gliscor\",\"Incineroar\",\"Mimikyu\",\"Snorlax\"],\n",
    "                      [\"Gyarados\",\"Garchomp\",\"Talonflame\",\"Pachirisu\",\"Gothitelle\",\"Gardevoir\"],\n",
    "                      [\"Charizard\",\"Lucario\",\"Garchomp\",\"Mamoswine\",\"Tyranitar\",\"Salamence\"],\n",
    "                      [\"Mawile\",\"Conkeldurr\",\"Eelektross\",\"Hydreigon\",\"Tyranitar\",\"Aegislash\"],\n",
    "                      [\"Altaria\",\"Gardevoir\",\"Marowak\",\"Krookodile\",\"Whimsicott\",\"Skarmory\"],\n",
    "                      [\"Espeon\", \"Arcanine\", \"Garchomp\", \"Ninetales\", \"Mandibuzz\", \"Ampharos\"],\n",
    "                      [\"Kingdra\",\"Gyarados\",\"Marowak\",\"Garchomp\",\"Oranguru\",\"Ferrothorn\"]])\n",
    "user_input = np.array([\"Gyarados\",\"Raichu\",\"Quagsire\",\"Cloyster\",\"Slowking\"])\n",
    "user_input = np.reshape(np.tile(user_input,[len(championship_teams)]),[len(championship_teams),len(user_input)])\n",
    "combined  = np.concatenate((user_input,championship_teams),axis = 1)\n",
    "pdCombined = pd.DataFrame(combined,columns =[0,1,2,3,4,5,6,7,8,9,10])\n",
    "pdCombined\n"
   ]
  },
  {
   "cell_type": "code",
   "execution_count": 24,
   "metadata": {},
   "outputs": [
    {
     "data": {
      "text/plain": [
       "array(['Garchomp', 'Salamence', 'Charizard', 'Gyarados', 'Salamence',\n",
       "       'Tyranitar', 'Salamence', 'Salamence', 'Salamence', 'Charizard',\n",
       "       'Salamence', 'Garchomp', 'Charizard', 'Salamence', 'Blaziken',\n",
       "       'Houndoom', '', '', '', '', '', '', '', '', '', '', '', '', '', '',\n",
       "       '', '', '', '', '', '', '', '', '', '', '', '', '', '', '', '', '',\n",
       "       '', '', '', '', '', '', '', '', '', '', '', '', ''], dtype='<U12')"
      ]
     },
     "execution_count": 24,
     "metadata": {},
     "output_type": "execute_result"
    }
   ],
   "source": [
    "typesXuser = np.stack([pokemon_features_df.loc[row,type_cols].to_numpy().reshape(-1) for _,row in pdCombined.iterrows()], axis=0)\n",
    "statsXuser = np.stack([pokemon_features_df.loc[row,stat_cols].to_numpy().reshape(-1) for _,row in pdCombined.iterrows()], axis=0)\n",
    "typesPredictUser = clf.predict(typesXuser)\n",
    "statsPredictUser = regr.predict(statsXuser)\n",
    "\n",
    "best_mons = np.empty(60, dtype=\"<U12\")\n",
    "for i in range(12):\n",
    "  for j in range(5):\n",
    "    best_mons[i+j]=gotta_match_it_all(typesPredictUser[i],statsPredictUser[i]).index[j]\n",
    "best_mons"
   ]
  },
  {
   "cell_type": "code",
   "execution_count": 25,
   "metadata": {},
   "outputs": [
    {
     "data": {
      "text/plain": [
       "array(['', 'Salamence', '', '', '', '', '', '', '', '', '', '', '', '',\n",
       "       '', '', '', '', '', '', '', '', '', '', '', '', '', '', '', '', '',\n",
       "       '', '', '', '', '', '', '', '', '', '', '', '', '', '', '', '', '',\n",
       "       '', '', '', '', '', '', '', '', '', '', '', ''], dtype='<U12')"
      ]
     },
     "execution_count": 25,
     "metadata": {},
     "output_type": "execute_result"
    }
   ],
   "source": [
    "gotta_match_it_all(typesPredictUser[1],statsPredictUser[1]).index[0]\n",
    "best_mons = np.empty(60, dtype=\"<U12\")\n",
    "best_mons[1] = \"Salamence\"\n",
    "\n",
    "best_mons"
   ]
  },
  {
   "cell_type": "code",
   "execution_count": null,
   "metadata": {},
   "outputs": [],
   "source": []
  }
 ],
 "metadata": {
  "colab": {
   "provenance": []
  },
  "kernelspec": {
   "display_name": "Python 3 (ipykernel)",
   "language": "python",
   "name": "python3"
  },
  "language_info": {
   "codemirror_mode": {
    "name": "ipython",
    "version": 3
   },
   "file_extension": ".py",
   "mimetype": "text/x-python",
   "name": "python",
   "nbconvert_exporter": "python",
   "pygments_lexer": "ipython3",
   "version": "3.8.10"
  }
 },
 "nbformat": 4,
 "nbformat_minor": 4
}
