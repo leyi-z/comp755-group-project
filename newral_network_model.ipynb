{
 "cells": [
  {
   "cell_type": "code",
   "execution_count": 1,
   "metadata": {
    "colab": {
     "base_uri": "https://localhost:8080/",
     "height": 235
    },
    "executionInfo": {
     "elapsed": 190,
     "status": "error",
     "timestamp": 1669159621276,
     "user": {
      "displayName": "Michael Facci",
      "userId": "04891211867868055548"
     },
     "user_tz": 300
    },
    "id": "bezwfyEQuqKF",
    "outputId": "830e1dea-d265-4883-81c3-aec757717831"
   },
   "outputs": [
    {
     "name": "stderr",
     "output_type": "stream",
     "text": [
      "2022-11-24 23:23:23.727123: I tensorflow/core/platform/cpu_feature_guard.cc:193] This TensorFlow binary is optimized with oneAPI Deep Neural Network Library (oneDNN) to use the following CPU instructions in performance-critical operations:  AVX2 FMA\n",
      "To enable them in other operations, rebuild TensorFlow with the appropriate compiler flags.\n",
      "2022-11-24 23:23:23.840266: W tensorflow/stream_executor/platform/default/dso_loader.cc:64] Could not load dynamic library 'libcudart.so.11.0'; dlerror: libcudart.so.11.0: cannot open shared object file: No such file or directory\n",
      "2022-11-24 23:23:23.840283: I tensorflow/stream_executor/cuda/cudart_stub.cc:29] Ignore above cudart dlerror if you do not have a GPU set up on your machine.\n",
      "2022-11-24 23:23:23.858924: E tensorflow/stream_executor/cuda/cuda_blas.cc:2981] Unable to register cuBLAS factory: Attempting to register factory for plugin cuBLAS when one has already been registered\n",
      "2022-11-24 23:23:24.303369: W tensorflow/stream_executor/platform/default/dso_loader.cc:64] Could not load dynamic library 'libnvinfer.so.7'; dlerror: libnvinfer.so.7: cannot open shared object file: No such file or directory\n",
      "2022-11-24 23:23:24.303413: W tensorflow/stream_executor/platform/default/dso_loader.cc:64] Could not load dynamic library 'libnvinfer_plugin.so.7'; dlerror: libnvinfer_plugin.so.7: cannot open shared object file: No such file or directory\n",
      "2022-11-24 23:23:24.303418: W tensorflow/compiler/tf2tensorrt/utils/py_utils.cc:38] TF-TRT Warning: Cannot dlopen some TensorRT libraries. If you would like to use Nvidia GPU with TensorRT, please make sure the missing libraries mentioned above are installed properly.\n",
      "2022-11-24 23:23:24.896036: I tensorflow/core/platform/cpu_feature_guard.cc:193] This TensorFlow binary is optimized with oneAPI Deep Neural Network Library (oneDNN) to use the following CPU instructions in performance-critical operations:  AVX2 FMA\n",
      "To enable them in other operations, rebuild TensorFlow with the appropriate compiler flags.\n",
      "2022-11-24 23:23:24.928483: I tensorflow/stream_executor/cuda/cuda_gpu_executor.cc:980] successful NUMA node read from SysFS had negative value (-1), but there must be at least one NUMA node, so returning NUMA node zero\n",
      "2022-11-24 23:23:24.928771: W tensorflow/stream_executor/platform/default/dso_loader.cc:64] Could not load dynamic library 'libcudart.so.11.0'; dlerror: libcudart.so.11.0: cannot open shared object file: No such file or directory\n",
      "2022-11-24 23:23:24.928807: W tensorflow/stream_executor/platform/default/dso_loader.cc:64] Could not load dynamic library 'libcublas.so.11'; dlerror: libcublas.so.11: cannot open shared object file: No such file or directory\n",
      "2022-11-24 23:23:24.928840: W tensorflow/stream_executor/platform/default/dso_loader.cc:64] Could not load dynamic library 'libcublasLt.so.11'; dlerror: libcublasLt.so.11: cannot open shared object file: No such file or directory\n",
      "2022-11-24 23:23:24.928872: W tensorflow/stream_executor/platform/default/dso_loader.cc:64] Could not load dynamic library 'libcufft.so.10'; dlerror: libcufft.so.10: cannot open shared object file: No such file or directory\n",
      "2022-11-24 23:23:24.928905: W tensorflow/stream_executor/platform/default/dso_loader.cc:64] Could not load dynamic library 'libcurand.so.10'; dlerror: libcurand.so.10: cannot open shared object file: No such file or directory\n",
      "2022-11-24 23:23:24.928936: W tensorflow/stream_executor/platform/default/dso_loader.cc:64] Could not load dynamic library 'libcusolver.so.11'; dlerror: libcusolver.so.11: cannot open shared object file: No such file or directory\n",
      "2022-11-24 23:23:24.928968: W tensorflow/stream_executor/platform/default/dso_loader.cc:64] Could not load dynamic library 'libcusparse.so.11'; dlerror: libcusparse.so.11: cannot open shared object file: No such file or directory\n",
      "2022-11-24 23:23:24.929001: W tensorflow/stream_executor/platform/default/dso_loader.cc:64] Could not load dynamic library 'libcudnn.so.8'; dlerror: libcudnn.so.8: cannot open shared object file: No such file or directory\n",
      "2022-11-24 23:23:24.929008: W tensorflow/core/common_runtime/gpu/gpu_device.cc:1934] Cannot dlopen some GPU libraries. Please make sure the missing libraries mentioned above are installed properly if you would like to use GPU. Follow the guide at https://www.tensorflow.org/install/gpu for how to download and setup the required libraries for your platform.\n",
      "Skipping registering GPU devices...\n"
     ]
    },
    {
     "ename": "SystemError",
     "evalue": "GPU device not found",
     "output_type": "error",
     "traceback": [
      "\u001b[0;31m---------------------------------------------------------------------------\u001b[0m",
      "\u001b[0;31mSystemError\u001b[0m                               Traceback (most recent call last)",
      "Cell \u001b[0;32mIn [1], line 4\u001b[0m\n\u001b[1;32m      2\u001b[0m device_name \u001b[38;5;241m=\u001b[39m tf\u001b[38;5;241m.\u001b[39mtest\u001b[38;5;241m.\u001b[39mgpu_device_name()\n\u001b[1;32m      3\u001b[0m \u001b[38;5;28;01mif\u001b[39;00m device_name \u001b[38;5;241m!=\u001b[39m \u001b[38;5;124m'\u001b[39m\u001b[38;5;124m/device:GPU:0\u001b[39m\u001b[38;5;124m'\u001b[39m:\n\u001b[0;32m----> 4\u001b[0m     \u001b[38;5;28;01mraise\u001b[39;00m \u001b[38;5;167;01mSystemError\u001b[39;00m(\u001b[38;5;124m'\u001b[39m\u001b[38;5;124mGPU device not found\u001b[39m\u001b[38;5;124m'\u001b[39m)\n\u001b[1;32m      5\u001b[0m \u001b[38;5;28mprint\u001b[39m(\u001b[38;5;124m'\u001b[39m\u001b[38;5;124mFound GPU at: \u001b[39m\u001b[38;5;132;01m{}\u001b[39;00m\u001b[38;5;124m'\u001b[39m\u001b[38;5;241m.\u001b[39mformat(device_name))\n",
      "\u001b[0;31mSystemError\u001b[0m: GPU device not found"
     ]
    }
   ],
   "source": [
    "import tensorflow as tf\n",
    "device_name = tf.test.gpu_device_name()\n",
    "if device_name != '/device:GPU:0':\n",
    "    raise SystemError('GPU device not found')\n",
    "print('Found GPU at: {}'.format(device_name))"
   ]
  },
  {
   "cell_type": "code",
   "execution_count": 2,
   "metadata": {
    "executionInfo": {
     "elapsed": 881,
     "status": "ok",
     "timestamp": 1669159622314,
     "user": {
      "displayName": "Michael Facci",
      "userId": "04891211867868055548"
     },
     "user_tz": 300
    },
    "id": "JQfZMVKBvBFo"
   },
   "outputs": [],
   "source": [
    "%matplotlib inline\n",
    "import numpy as np\n",
    "import matplotlib.pyplot as plt\n",
    "import scipy.stats\n",
    "import pandas as pd\n",
    "from tensorflow.keras.models import Sequential\n",
    "from tensorflow.keras.layers import Dense\n",
    "\n",
    "# packages and modules from ml article linked here: https://www.pluralsight.com/guides/machine-learning-neural-networks-scikit-learn\n",
    "import sklearn\n",
    "from sklearn.neural_network import MLPClassifier\n",
    "from sklearn.neural_network import MLPRegressor\n",
    "from sklearn.model_selection import train_test_split\n",
    "from sklearn.metrics import mean_squared_error\n",
    "from math import sqrt\n",
    "from sklearn.metrics import r2_score\n",
    "\n",
    "# ignore some of above, trying a different model!\n",
    "from sklearn.datasets import load_linnerud\n",
    "from sklearn.multioutput import MultiOutputRegressor\n",
    "from sklearn.linear_model import Ridge\n",
    "\n",
    "# for classifier \n",
    "from sklearn.datasets import make_multilabel_classification\n",
    "from sklearn.multioutput import MultiOutputClassifier\n",
    "from sklearn.linear_model import LogisticRegression\n",
    "\n",
    "# other\n",
    "from utils import type_to_int, type_to_int_dict_inv"
   ]
  },
  {
   "cell_type": "code",
   "execution_count": 85,
   "metadata": {
    "executionInfo": {
     "elapsed": 1325,
     "status": "ok",
     "timestamp": 1669159623633,
     "user": {
      "displayName": "Michael Facci",
      "userId": "04891211867868055548"
     },
     "user_tz": 300
    },
    "id": "5kQxOLJLwA3F"
   },
   "outputs": [],
   "source": [
    "url='https://drive.google.com/file/d/1VzeIrzna8SDkJCnIrCIxn5LXnpx3WcrA/view?usp=sharing'\n",
    "url='https://drive.google.com/uc?id=' + url.split('/')[-2]\n",
    "poke = pd.read_csv(url) #import Pokemon data\n",
    "\n",
    "url2='https://drive.google.com/file/d/1WR9i10kZ6bkI_7WV4fWmOXXNlaKgnBZ0/view?usp=share_link'\n",
    "url2='https://drive.google.com/uc?id=' + url2.split('/')[-2]\n",
    "training_data = pd.read_csv(url2) #import training data\n",
    "\n",
    "poke = poke[poke.is_legendary == 0] #clean data for no legendaries\n",
    "poke.reset_index(drop = True,inplace = True)\n",
    "poke = poke.drop([131, 195, 196, 229, 348, 717]) #clean out problem children (Ditto, etc)\n",
    "poke.reset_index(drop = True,inplace = True)"
   ]
  },
  {
   "cell_type": "code",
   "execution_count": 86,
   "metadata": {
    "executionInfo": {
     "elapsed": 9,
     "status": "ok",
     "timestamp": 1669159623633,
     "user": {
      "displayName": "Michael Facci",
      "userId": "04891211867868055548"
     },
     "user_tz": 300
    },
    "id": "bjXModnZzRkQ"
   },
   "outputs": [],
   "source": [
    "#zeroth row data point\n",
    "pokemon_name = training_data.iloc[0][1] #pokemon 1 of our team is index 1 for column\n",
    "pokemon_name_last = training_data.iloc[0][11] #last pokemon of opposing team is index 11 for column\n",
    "\n",
    "#get desired stats\n",
    "temp = poke.loc[poke[\"name\"]==pokemon_name].squeeze()\n",
    "#temp[\"name\"],temp[\"hp\"],[temp[\"type1\"],temp[\"type2\"]],temp[\"attack\"],temp[\"defense\"],temp[\"sp_attack\"],temp[\"sp_defense\"],temp[\"speed\"]"
   ]
  },
  {
   "cell_type": "code",
   "execution_count": 87,
   "metadata": {
    "colab": {
     "base_uri": "https://localhost:8080/",
     "height": 236
    },
    "executionInfo": {
     "elapsed": 149,
     "status": "ok",
     "timestamp": 1669159764432,
     "user": {
      "displayName": "Michael Facci",
      "userId": "04891211867868055548"
     },
     "user_tz": 300
    },
    "id": "td99zdKCxNDV",
    "outputId": "0d9915bd-8ada-4619-ff6d-f8790723a0c9"
   },
   "outputs": [
    {
     "data": {
      "text/html": [
       "<div>\n",
       "<style scoped>\n",
       "    .dataframe tbody tr th:only-of-type {\n",
       "        vertical-align: middle;\n",
       "    }\n",
       "\n",
       "    .dataframe tbody tr th {\n",
       "        vertical-align: top;\n",
       "    }\n",
       "\n",
       "    .dataframe thead th {\n",
       "        text-align: right;\n",
       "    }\n",
       "</style>\n",
       "<table border=\"1\" class=\"dataframe\">\n",
       "  <thead>\n",
       "    <tr style=\"text-align: right;\">\n",
       "      <th></th>\n",
       "      <th>Unnamed: 0</th>\n",
       "      <th>0</th>\n",
       "      <th>1</th>\n",
       "      <th>2</th>\n",
       "      <th>3</th>\n",
       "      <th>4</th>\n",
       "      <th>5</th>\n",
       "      <th>6</th>\n",
       "      <th>7</th>\n",
       "      <th>8</th>\n",
       "      <th>...</th>\n",
       "      <th>21</th>\n",
       "      <th>22</th>\n",
       "      <th>23</th>\n",
       "      <th>24</th>\n",
       "      <th>25</th>\n",
       "      <th>26</th>\n",
       "      <th>27</th>\n",
       "      <th>28</th>\n",
       "      <th>29</th>\n",
       "      <th>30</th>\n",
       "    </tr>\n",
       "  </thead>\n",
       "  <tbody>\n",
       "    <tr>\n",
       "      <th>0</th>\n",
       "      <td>0</td>\n",
       "      <td>Trevenant</td>\n",
       "      <td>Grimer</td>\n",
       "      <td>Sawk</td>\n",
       "      <td>Zorua</td>\n",
       "      <td>Tangela</td>\n",
       "      <td>Meowstic</td>\n",
       "      <td>Vulpix</td>\n",
       "      <td>Forretress</td>\n",
       "      <td>Wishiwashi</td>\n",
       "      <td>...</td>\n",
       "      <td>Hydreigon</td>\n",
       "      <td>Hypno</td>\n",
       "      <td>Delphox</td>\n",
       "      <td>Bisharp</td>\n",
       "      <td>Blastoise</td>\n",
       "      <td>Empoleon</td>\n",
       "      <td>Jolteon</td>\n",
       "      <td>Oranguru</td>\n",
       "      <td>Slowking</td>\n",
       "      <td>Kangaskhan</td>\n",
       "    </tr>\n",
       "    <tr>\n",
       "      <th>1</th>\n",
       "      <td>1</td>\n",
       "      <td>Arcanine</td>\n",
       "      <td>Tyrantrum</td>\n",
       "      <td>Venusaur</td>\n",
       "      <td>Budew</td>\n",
       "      <td>Kangaskhan</td>\n",
       "      <td>Braixen</td>\n",
       "      <td>Lickilicky</td>\n",
       "      <td>Victreebel</td>\n",
       "      <td>Espeon</td>\n",
       "      <td>...</td>\n",
       "      <td>Sneasel</td>\n",
       "      <td>Weavile</td>\n",
       "      <td>Greninja</td>\n",
       "      <td>Scizor</td>\n",
       "      <td>Slaking</td>\n",
       "      <td>Minior</td>\n",
       "      <td>Goodra</td>\n",
       "      <td>Ribombee</td>\n",
       "      <td>Lucario</td>\n",
       "      <td>Aerodactyl</td>\n",
       "    </tr>\n",
       "    <tr>\n",
       "      <th>2</th>\n",
       "      <td>2</td>\n",
       "      <td>Sawk</td>\n",
       "      <td>Butterfree</td>\n",
       "      <td>Poliwhirl</td>\n",
       "      <td>Tynamo</td>\n",
       "      <td>Seaking</td>\n",
       "      <td>Floette</td>\n",
       "      <td>Quagsire</td>\n",
       "      <td>Litten</td>\n",
       "      <td>Cloyster</td>\n",
       "      <td>...</td>\n",
       "      <td>Silvally</td>\n",
       "      <td>Seviper</td>\n",
       "      <td>Alakazam</td>\n",
       "      <td>Swalot</td>\n",
       "      <td>Oricorio</td>\n",
       "      <td>Delphox</td>\n",
       "      <td>Nidoqueen</td>\n",
       "      <td>Salazzle</td>\n",
       "      <td>Steelix</td>\n",
       "      <td>Typhlosion</td>\n",
       "    </tr>\n",
       "    <tr>\n",
       "      <th>3</th>\n",
       "      <td>3</td>\n",
       "      <td>Butterfree</td>\n",
       "      <td>Wurmple</td>\n",
       "      <td>Kangaskhan</td>\n",
       "      <td>Vibrava</td>\n",
       "      <td>Corsola</td>\n",
       "      <td>Toucannon</td>\n",
       "      <td>Hitmonlee</td>\n",
       "      <td>Ursaring</td>\n",
       "      <td>Karrablast</td>\n",
       "      <td>...</td>\n",
       "      <td>Greninja</td>\n",
       "      <td>Alakazam</td>\n",
       "      <td>Manectric</td>\n",
       "      <td>Jellicent</td>\n",
       "      <td>Absol</td>\n",
       "      <td>Mienshao</td>\n",
       "      <td>Porygon-Z</td>\n",
       "      <td>Arcanine</td>\n",
       "      <td>Aegislash</td>\n",
       "      <td>Chimecho</td>\n",
       "    </tr>\n",
       "    <tr>\n",
       "      <th>4</th>\n",
       "      <td>4</td>\n",
       "      <td>Elgyem</td>\n",
       "      <td>Mamoswine</td>\n",
       "      <td>Ambipom</td>\n",
       "      <td>Greninja</td>\n",
       "      <td>Caterpie</td>\n",
       "      <td>Toucannon</td>\n",
       "      <td>Magcargo</td>\n",
       "      <td>Stunky</td>\n",
       "      <td>Torracat</td>\n",
       "      <td>...</td>\n",
       "      <td>Purrloin</td>\n",
       "      <td>Liepard</td>\n",
       "      <td>Pansage</td>\n",
       "      <td>Simisage</td>\n",
       "      <td>Pansear</td>\n",
       "      <td>Simisear</td>\n",
       "      <td>Servine</td>\n",
       "      <td>Phione</td>\n",
       "      <td>Froslass</td>\n",
       "      <td>Gallade</td>\n",
       "    </tr>\n",
       "  </tbody>\n",
       "</table>\n",
       "<p>5 rows × 32 columns</p>\n",
       "</div>"
      ],
      "text/plain": [
       "   Unnamed: 0           0           1           2         3           4  \\\n",
       "0           0   Trevenant      Grimer        Sawk     Zorua     Tangela   \n",
       "1           1    Arcanine   Tyrantrum    Venusaur     Budew  Kangaskhan   \n",
       "2           2        Sawk  Butterfree   Poliwhirl    Tynamo     Seaking   \n",
       "3           3  Butterfree     Wurmple  Kangaskhan   Vibrava     Corsola   \n",
       "4           4      Elgyem   Mamoswine     Ambipom  Greninja    Caterpie   \n",
       "\n",
       "           5           6           7           8  ...         21        22  \\\n",
       "0   Meowstic      Vulpix  Forretress  Wishiwashi  ...  Hydreigon     Hypno   \n",
       "1    Braixen  Lickilicky  Victreebel      Espeon  ...    Sneasel   Weavile   \n",
       "2    Floette    Quagsire      Litten    Cloyster  ...   Silvally   Seviper   \n",
       "3  Toucannon   Hitmonlee    Ursaring  Karrablast  ...   Greninja  Alakazam   \n",
       "4  Toucannon    Magcargo      Stunky    Torracat  ...   Purrloin   Liepard   \n",
       "\n",
       "          23         24         25        26         27        28         29  \\\n",
       "0    Delphox    Bisharp  Blastoise  Empoleon    Jolteon  Oranguru   Slowking   \n",
       "1   Greninja     Scizor    Slaking    Minior     Goodra  Ribombee    Lucario   \n",
       "2   Alakazam     Swalot   Oricorio   Delphox  Nidoqueen  Salazzle    Steelix   \n",
       "3  Manectric  Jellicent      Absol  Mienshao  Porygon-Z  Arcanine  Aegislash   \n",
       "4    Pansage   Simisage    Pansear  Simisear    Servine    Phione   Froslass   \n",
       "\n",
       "           30  \n",
       "0  Kangaskhan  \n",
       "1  Aerodactyl  \n",
       "2  Typhlosion  \n",
       "3    Chimecho  \n",
       "4     Gallade  \n",
       "\n",
       "[5 rows x 32 columns]"
      ]
     },
     "execution_count": 87,
     "metadata": {},
     "output_type": "execute_result"
    }
   ],
   "source": [
    "training_data.head()"
   ]
  },
  {
   "cell_type": "code",
   "execution_count": 84,
   "metadata": {
    "colab": {
     "base_uri": "https://localhost:8080/"
    },
    "executionInfo": {
     "elapsed": 6,
     "status": "ok",
     "timestamp": 1669159918972,
     "user": {
      "displayName": "Michael Facci",
      "userId": "04891211867868055548"
     },
     "user_tz": 300
    },
    "id": "agEdbEw_rM1g",
    "outputId": "6bfb5125-2c94-4524-d7d3-aa75e0aadae7"
   },
   "outputs": [],
   "source": [
    "# training_data.iloc[3]"
   ]
  },
  {
   "cell_type": "code",
   "execution_count": 88,
   "metadata": {
    "executionInfo": {
     "elapsed": 8,
     "status": "ok",
     "timestamp": 1669159623634,
     "user": {
      "displayName": "Michael Facci",
      "userId": "04891211867868055548"
     },
     "user_tz": 300
    },
    "id": "9R1WFNzg07nT"
   },
   "outputs": [],
   "source": [
    "X = training_data.iloc[:,1:12]\n",
    "Y = training_data.iloc[:,12:-1 ]"
   ]
  },
  {
   "cell_type": "code",
   "execution_count": 99,
   "metadata": {
    "colab": {
     "base_uri": "https://localhost:8080/"
    },
    "executionInfo": {
     "elapsed": 13897,
     "status": "ok",
     "timestamp": 1669159637524,
     "user": {
      "displayName": "Michael Facci",
      "userId": "04891211867868055548"
     },
     "user_tz": 300
    },
    "id": "vtGmgGQb20U0",
    "outputId": "b8044e32-4599-4f98-f0d3-4edda5af2567"
   },
   "outputs": [
    {
     "name": "stdout",
     "output_type": "stream",
     "text": [
      "[0 0 0 0 0 0 0 1 0 0 0 1 0 0 0 0 0 0 0 0 0 1 0 0 0 0 0 0 0 0 0 0 0 0 0 0 0\n",
      " 1 0 0 0 0 0 0 0 0 0 0 0 0 0 0 0 0 0 0 0 0 0 0 0 0 0 0 0 0 0 0 0 0 1 0 0 0\n",
      " 0 0 0 0 0 0 0 0 0 1 0 0 0 0 0 0 0 0 0 0 0 0 0 0 0 0 0 0 0 1 0 0 0 0 0 0 0\n",
      " 0 0 0 0 0 0 1 0 0 0 0 1 0 0 0 0 0 0 0 0 0 1 0 1 0 0 0 0 0 0 0 0 0 0 0 0 0\n",
      " 0 0 0 0 0 0 1 0 0 0 0 0 0 0 0 0 1 1 0 0 0 0 0 0 0 0 0 0 0 0 0 0 0 0 0 0 0\n",
      " 0 0 0 0 0 0 0 0 1 0 0 0 0] [474 166 167 325 105 130 465 210 150 330 145  80 435 160 180 466 187 155\n",
      " 299 115 103 465 130 215 620 170 180 535 220 165 355 131 122] \n",
      "\n",
      "[0 0 0 0 0 0 0 0 0 0 0 0 0 1 0 0 0 0] [600 325 160]\n"
     ]
    }
   ],
   "source": [
    "pokemon_features_df = pd.read_csv('pokemon_features.csv', index_col='name')\n",
    "type_cols = pokemon_features_df.columns[:18]\n",
    "stat_cols = pokemon_features_df.columns[18:]\n",
    "typesX = np.stack([pokemon_features_df.loc[row,type_cols].to_numpy().reshape(-1) for _,row in X.iterrows()], axis=0)\n",
    "statsX = np.stack([pokemon_features_df.loc[row,stat_cols].to_numpy().reshape(-1) for _,row in X.iterrows()], axis=0)\n",
    "typesY = np.stack([pokemon_features_df.loc[row,type_cols].to_numpy().reshape(-1) for _,row in Y[['11']].iterrows()], axis=0)\n",
    "statsY = np.stack([pokemon_features_df.loc[row,stat_cols].to_numpy().reshape(-1) for _,row in Y[['11']].iterrows()], axis=0)\n",
    "\n",
    "print(typesX[0], statsX[0], '\\n')\n",
    "print(typesY[0], statsY[0])"
   ]
  },
  {
   "cell_type": "code",
   "execution_count": 14,
   "metadata": {
    "executionInfo": {
     "elapsed": 9,
     "status": "ok",
     "timestamp": 1669159638851,
     "user": {
      "displayName": "Michael Facci",
      "userId": "04891211867868055548"
     },
     "user_tz": 300
    },
    "id": "R4mHB1TZ9PvJ"
   },
   "outputs": [],
   "source": [
    "# don't need this right now, it's for a single output binary classifier (from previous reference article) TO DELETE\n",
    "# X_train, X_test, y_train, y_test = train_test_split(featureX.transpose(), featureY.transpose(), test_size=0.30, random_state=40)\n",
    "# print(X_train.shape); print(X_test.shape)"
   ]
  },
  {
   "cell_type": "markdown",
   "metadata": {
    "id": "EtIrazpDAS2w"
   },
   "source": [
    "For our type output, this could be a binary classifer with classes 1 (is the type) and 0 (is not the type) with 18 outputs. \n",
    "\n",
    "For the stats predictor, we cannot use a classifier unless we had all possible classes (every integer option: not feasible), instead we should use a regression model?)\n",
    "\n",
    "Idea: two different models, one for classifying on type and one for regression\n",
    "\n",
    "Idea2: use entirely a regression model and pick the type 1/2 that are the closest to 1"
   ]
  },
  {
   "cell_type": "code",
   "execution_count": 97,
   "metadata": {
    "executionInfo": {
     "elapsed": 8,
     "status": "ok",
     "timestamp": 1669159638851,
     "user": {
      "displayName": "Michael Facci",
      "userId": "04891211867868055548"
     },
     "user_tz": 300
    },
    "id": "PaSwLQRnBvNb"
   },
   "outputs": [],
   "source": [
    "#regr = MultiOutputRegressor(Ridge(random_state=123)).fit(featureX, featureY)"
   ]
  },
  {
   "cell_type": "code",
   "execution_count": 96,
   "metadata": {
    "executionInfo": {
     "elapsed": 7,
     "status": "ok",
     "timestamp": 1669159638851,
     "user": {
      "displayName": "Michael Facci",
      "userId": "04891211867868055548"
     },
     "user_tz": 300
    },
    "id": "mLb15RQKBwbH"
   },
   "outputs": [],
   "source": [
    "#regr.predict(featureX[[0]])"
   ]
  },
  {
   "cell_type": "markdown",
   "metadata": {
    "id": "FVfGQp4tDK8n"
   },
   "source": [
    "This worked kinda but also not! Stats seems like reasonable numbers for stats, but type doesn't make much sense. Try: two models, one for type (classifier multioutput) and one for stats (regressor multioutput) and then use both of these results and combine them for our total output :)"
   ]
  },
  {
   "cell_type": "code",
   "execution_count": 90,
   "metadata": {
    "executionInfo": {
     "elapsed": 7,
     "status": "ok",
     "timestamp": 1669159638851,
     "user": {
      "displayName": "Michael Facci",
      "userId": "04891211867868055548"
     },
     "user_tz": 300
    },
    "id": "KqmURxQFkk3L"
   },
   "outputs": [],
   "source": [
    "regr = MultiOutputRegressor(Ridge(random_state = 123)).fit(statsX, statsY)"
   ]
  },
  {
   "cell_type": "code",
   "execution_count": 91,
   "metadata": {
    "executionInfo": {
     "elapsed": 158,
     "status": "ok",
     "timestamp": 1669159999389,
     "user": {
      "displayName": "Michael Facci",
      "userId": "04891211867868055548"
     },
     "user_tz": 300
    },
    "id": "BArYAlRAk0sk"
   },
   "outputs": [],
   "source": [
    "statsPredict=regr.predict(statsX)"
   ]
  },
  {
   "cell_type": "code",
   "execution_count": 35,
   "metadata": {
    "colab": {
     "base_uri": "https://localhost:8080/"
    },
    "executionInfo": {
     "elapsed": 178,
     "status": "ok",
     "timestamp": 1669160018723,
     "user": {
      "displayName": "Michael Facci",
      "userId": "04891211867868055548"
     },
     "user_tz": 300
    },
    "id": "9_rjnPbCsIbF",
    "outputId": "360f727e-aeb0-4b87-91df-51167a176be2"
   },
   "outputs": [
    {
     "data": {
      "text/plain": [
       "array([[643.88147839, 250.54993431, 211.06853559],\n",
       "       [645.92533108, 259.55498623, 201.49643557],\n",
       "       [626.93805044, 248.83794125, 196.62193455],\n",
       "       ...,\n",
       "       [599.04693393, 234.27753667, 193.15007847],\n",
       "       [642.12454779, 256.59643234, 196.54247578],\n",
       "       [603.08779872, 219.23035738, 205.27514673]])"
      ]
     },
     "execution_count": 35,
     "metadata": {},
     "output_type": "execute_result"
    }
   ],
   "source": [
    "statsPredict"
   ]
  },
  {
   "cell_type": "code",
   "execution_count": 92,
   "metadata": {
    "executionInfo": {
     "elapsed": 610,
     "status": "ok",
     "timestamp": 1669159639457,
     "user": {
      "displayName": "Michael Facci",
      "userId": "04891211867868055548"
     },
     "user_tz": 300
    },
    "id": "aM6Ql4HmlAmf"
   },
   "outputs": [],
   "source": [
    "clf = MultiOutputClassifier(LogisticRegression()).fit(typesX, typesY)"
   ]
  },
  {
   "cell_type": "code",
   "execution_count": 93,
   "metadata": {
    "colab": {
     "base_uri": "https://localhost:8080/"
    },
    "executionInfo": {
     "elapsed": 8,
     "status": "ok",
     "timestamp": 1669159639457,
     "user": {
      "displayName": "Michael Facci",
      "userId": "04891211867868055548"
     },
     "user_tz": 300
    },
    "id": "zq9Qm3KqnV1d",
    "outputId": "5dc40afd-78b5-4d70-e861-a502fbe987d0"
   },
   "outputs": [
    {
     "data": {
      "text/plain": [
       "array([[0, 1, 0, 0, 0, 0, 0, 0, 1, 0, 0, 0, 0, 0, 0, 0, 0, 0]])"
      ]
     },
     "execution_count": 93,
     "metadata": {},
     "output_type": "execute_result"
    }
   ],
   "source": [
    "typesY[-1:]"
   ]
  },
  {
   "cell_type": "code",
   "execution_count": 94,
   "metadata": {
    "colab": {
     "base_uri": "https://localhost:8080/"
    },
    "executionInfo": {
     "elapsed": 6,
     "status": "ok",
     "timestamp": 1669159639457,
     "user": {
      "displayName": "Michael Facci",
      "userId": "04891211867868055548"
     },
     "user_tz": 300
    },
    "id": "vDm4ry0BmkBR",
    "outputId": "38efd644-88da-487c-cd3b-ee17eb63f3e5"
   },
   "outputs": [
    {
     "data": {
      "text/plain": [
       "array([[0, 0, 0, 0, 0, 0, 0, 0, 0, 0, 0, 0, 0, 0, 0, 0, 0, 0]])"
      ]
     },
     "execution_count": 94,
     "metadata": {},
     "output_type": "execute_result"
    }
   ],
   "source": [
    "clf.predict(typesX[-1:])"
   ]
  },
  {
   "cell_type": "markdown",
   "metadata": {
    "id": "5742sXFPnrDt"
   },
   "source": [
    "This binary multiclass output does not return all outputs as having a type. We really need it to return 1 or 2 types for our output pokemon (this is a BIG part of choosing pokemon to battle). New idea: make each type a class with an int 0-17, or 1-18, and maybe another class as a placeholder for a type when a pokemon has only 1 type (or simply have [18 18]. Then, use a multiclass classifier with an output of 2 (representing types)\n",
    "\n",
    "Need to make data changes :'("
   ]
  },
  {
   "cell_type": "code",
   "execution_count": 95,
   "metadata": {
    "id": "H9W72x0RoJt_"
   },
   "outputs": [
    {
     "data": {
      "text/plain": [
       "array([   0,    3,    8,   15,   16,   19,   22,   23,   28,   29,   30,\n",
       "         35,   42,   44,   46,   48,   49,   53,   56,   57,   62,   63,\n",
       "         64,   66,   72,   75,   76,   79,   94,   96,   98,  104,  106,\n",
       "        108,  109,  113,  125,  127,  130,  133,  135,  141,  144,  147,\n",
       "        152,  159,  160,  163,  169,  176,  178,  179,  182,  185,  186,\n",
       "        187,  196,  197,  198,  200,  201,  202,  203,  204,  208,  209,\n",
       "        210,  212,  214,  215,  219,  230,  233,  237,  238,  242,  246,\n",
       "        248,  251,  252,  255,  257,  258,  261,  262,  264,  265,  267,\n",
       "        268,  269,  271,  273,  278,  279,  280,  281,  282,  285,  286,\n",
       "        289,  292,  293,  296,  302,  307,  310,  311,  314,  320,  321,\n",
       "        327,  330,  335,  336,  337,  338,  341,  346,  361,  364,  366,\n",
       "        367,  368,  370,  374,  375,  376,  377,  379,  384,  386,  387,\n",
       "        389,  390,  395,  396,  397,  398,  399,  400,  403,  404,  409,\n",
       "        411,  412,  415,  416,  425,  427,  429,  432,  433,  435,  436,\n",
       "        439,  444,  448,  454,  456,  457,  460,  465,  469,  472,  473,\n",
       "        475,  479,  482,  487,  489,  494,  497,  499,  502,  505,  508,\n",
       "        515,  519,  522,  525,  532,  534,  535,  557,  558,  560,  567,\n",
       "        578,  583,  586,  588,  592,  593,  598,  601,  603,  604,  613,\n",
       "        617,  620,  623,  625,  629,  632,  634,  645,  648,  649,  652,\n",
       "        659,  660,  665,  666,  668,  669,  670,  673,  677,  678,  681,\n",
       "        684,  692,  693,  696,  698,  701,  704,  707,  711,  713,  715,\n",
       "        720,  724,  727,  730,  731,  735,  751,  753,  756,  757,  758,\n",
       "        761,  765,  766,  767,  769,  771,  772,  775,  777,  778,  780,\n",
       "        781,  786,  787,  789,  791,  793,  794,  795,  796,  798,  799,\n",
       "        800,  805,  806,  809,  813,  814,  817,  820,  822,  823,  826,\n",
       "        828,  829,  837,  838,  840,  841,  848,  850,  851,  854,  859,\n",
       "        860,  861,  863,  865,  870,  873,  875,  880,  881,  883,  890,\n",
       "        891,  892,  894,  897,  898,  899,  900,  902,  904,  905,  906,\n",
       "        911,  916,  917,  919,  923,  928,  930,  933,  934,  936,  938,\n",
       "        944,  945,  947,  953,  961,  964,  966,  967,  968,  969,  983,\n",
       "        984,  986,  988,  991,  993,  994,  997,  998,  999, 1001, 1007,\n",
       "       1009, 1011, 1020, 1021, 1024, 1025, 1027, 1029, 1032, 1034, 1035,\n",
       "       1036, 1040, 1041, 1042, 1043, 1045, 1048, 1050, 1051, 1052, 1055,\n",
       "       1058, 1059, 1061, 1063, 1068, 1070, 1073, 1075, 1077, 1081, 1083,\n",
       "       1087, 1088, 1093, 1096, 1098, 1102, 1104, 1109, 1110, 1111, 1112,\n",
       "       1114, 1115, 1116, 1118, 1119, 1121, 1124, 1138, 1139, 1141, 1146,\n",
       "       1147, 1148, 1151, 1155, 1156, 1162, 1163, 1172, 1173, 1176, 1179,\n",
       "       1181, 1183, 1187, 1189, 1190, 1191, 1193, 1194, 1195, 1196, 1200,\n",
       "       1202, 1205, 1206, 1211, 1212, 1213, 1216, 1217, 1220, 1223, 1226,\n",
       "       1233, 1238, 1240, 1242, 1243, 1245, 1251, 1253, 1256, 1260, 1261,\n",
       "       1262, 1265, 1266, 1268, 1269, 1272, 1278, 1281, 1282, 1283, 1285,\n",
       "       1287, 1294, 1298, 1302, 1305, 1307, 1312, 1316, 1317, 1318, 1324,\n",
       "       1327, 1329, 1330, 1333, 1336, 1337, 1342, 1345, 1346, 1350, 1351,\n",
       "       1352, 1354, 1355, 1359, 1360, 1362, 1364, 1366, 1369, 1371, 1372,\n",
       "       1373, 1374, 1375, 1383, 1385, 1390, 1391, 1393, 1401, 1403, 1404,\n",
       "       1405, 1406, 1408, 1410, 1411, 1412, 1414, 1416, 1424, 1428, 1430,\n",
       "       1433, 1437, 1439, 1440, 1441, 1443, 1447, 1449, 1450, 1453, 1458,\n",
       "       1459, 1461, 1462, 1463, 1467, 1478, 1485, 1487, 1489, 1490, 1494,\n",
       "       1498, 1499, 1504, 1506, 1507, 1511, 1512, 1513, 1516, 1517, 1519,\n",
       "       1522, 1523, 1524, 1530, 1531, 1533, 1534, 1555, 1556, 1559, 1562,\n",
       "       1565, 1566, 1573, 1578, 1582, 1584, 1587, 1588, 1589, 1595, 1599,\n",
       "       1601, 1602, 1607, 1609, 1611, 1614, 1617, 1618, 1620, 1626, 1630,\n",
       "       1632, 1634, 1636, 1640, 1641, 1643, 1646, 1647, 1651, 1653, 1659,\n",
       "       1662, 1667, 1668, 1673, 1674, 1679, 1686, 1687, 1688, 1694, 1695,\n",
       "       1696, 1704, 1705, 1708, 1709, 1713, 1716, 1717, 1721, 1722, 1726,\n",
       "       1727, 1728, 1736, 1739, 1741, 1745, 1747, 1748, 1752, 1754, 1759,\n",
       "       1760, 1766, 1769, 1773, 1775, 1777, 1780, 1784, 1785, 1786, 1787,\n",
       "       1791, 1792, 1793, 1794, 1797, 1803, 1804, 1805, 1807, 1809, 1811,\n",
       "       1817, 1820, 1823, 1826, 1831, 1832, 1833, 1836, 1846, 1847, 1850,\n",
       "       1851, 1854, 1856, 1857, 1859, 1861, 1862, 1863, 1878, 1883, 1888,\n",
       "       1890, 1891, 1895, 1916, 1919, 1921, 1924, 1928, 1930, 1932, 1933,\n",
       "       1934, 1937, 1946, 1947, 1950, 1951, 1957, 1961, 1962, 1965, 1967,\n",
       "       1970, 1971, 1972, 1974, 1977, 1979, 1987, 1992, 1995, 2001, 2008,\n",
       "       2013, 2017, 2022, 2026, 2027, 2028, 2034, 2035, 2037, 2041, 2042,\n",
       "       2047, 2048, 2051, 2052, 2054, 2056, 2058, 2061, 2063, 2064, 2068,\n",
       "       2070, 2071, 2074, 2076, 2078, 2081, 2082, 2083, 2085, 2086, 2090,\n",
       "       2092, 2094, 2095, 2096, 2098, 2103, 2105, 2109, 2111, 2112, 2114,\n",
       "       2124, 2125, 2128, 2130, 2131, 2140, 2144, 2147, 2153, 2154, 2155,\n",
       "       2157, 2160, 2163, 2167, 2169, 2171, 2174, 2175, 2177, 2179, 2180,\n",
       "       2182, 2186, 2190])"
      ]
     },
     "execution_count": 95,
     "metadata": {},
     "output_type": "execute_result"
    }
   ],
   "source": [
    "pred = clf.predict(typesX)\n",
    "np.where(np.sum(pred,axis=1) != 0)[0]"
   ]
  },
  {
   "cell_type": "code",
   "execution_count": 32,
   "metadata": {
    "colab": {
     "base_uri": "https://localhost:8080/"
    },
    "executionInfo": {
     "elapsed": 132,
     "status": "ok",
     "timestamp": 1669159895225,
     "user": {
      "displayName": "Michael Facci",
      "userId": "04891211867868055548"
     },
     "user_tz": 300
    },
    "id": "r5xH1YInqzn3",
    "outputId": "13217333-b527-461d-c1e0-63323b4458fd"
   },
   "outputs": [
    {
     "data": {
      "text/plain": [
       "array([0., 0., 0., 0., 0., 0., 0., 0., 1., 0., 0., 0., 0., 0., 0., 0., 0.,\n",
       "       0.])"
      ]
     },
     "execution_count": 32,
     "metadata": {},
     "output_type": "execute_result"
    }
   ],
   "source": [
    "pred[3]"
   ]
  },
  {
   "cell_type": "markdown",
   "metadata": {
    "id": "YJ6cVlOepDma"
   },
   "source": [
    "MAYBE types doooooo only matter in 1/3 of our battles ?? (:\n",
    "\n",
    "If type isn't  all zero, then condition on type and search for nearest neighbor of that type?\n",
    "weight based on the team's deficiency\n"
   ]
  }
 ],
 "metadata": {
  "colab": {
   "provenance": []
  },
  "kernelspec": {
   "display_name": "Python 3 (ipykernel)",
   "language": "python",
   "name": "python3"
  },
  "language_info": {
   "codemirror_mode": {
    "name": "ipython",
    "version": 3
   },
   "file_extension": ".py",
   "mimetype": "text/x-python",
   "name": "python",
   "nbconvert_exporter": "python",
   "pygments_lexer": "ipython3",
   "version": "3.8.10"
  }
 },
 "nbformat": 4,
 "nbformat_minor": 4
}
